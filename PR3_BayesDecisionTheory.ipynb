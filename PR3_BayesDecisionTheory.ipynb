{
  "nbformat": 4,
  "nbformat_minor": 0,
  "metadata": {
    "colab": {
      "name": "PR3-BayesDecisionTheory.ipynb",
      "provenance": []
    },
    "kernelspec": {
      "name": "python3",
      "display_name": "Python 3"
    }
  },
  "cells": [
    {
      "cell_type": "code",
      "metadata": {
        "id": "PnhtnZIO0Tfk",
        "colab_type": "code",
        "colab": {
          "base_uri": "https://localhost:8080/",
          "height": 390
        },
        "outputId": "1d05795e-11b1-42e0-b1b7-250f909c2ff6"
      },
      "source": [
        "import pandas as pd\n",
        "\n",
        "#read csv\n",
        "df = pd.read_csv(\"fish_data.csv\", sep=';', quotechar='\"', encoding='utf8')\n",
        "print (df)"
      ],
      "execution_count": 15,
      "outputs": [
        {
          "output_type": "stream",
          "text": [
            "   lightness  countSalmon  countSeaBass\n",
            "0      0-0.5            0             0\n",
            "1    0.5-1.0            2             0\n",
            "2    1.0-1.5            8             0\n",
            "3    1.5-2.0            4             0\n",
            "4    2.0-2.5            7             0\n",
            "5    2.5-3.0           10             0\n",
            "6    3.0-3.5           12             0\n",
            "7    3.5-4.0            8             1\n",
            "8    4.0-4.5            6             0\n",
            "9    4.5-5.0            8             3\n",
            "10   5.0-5.5            4             3\n",
            "11   5.5-6.0            3             4\n",
            "12   6.0-6.5            1             6\n",
            "13   6.5-7.0            1             5\n",
            "14   7.0-7.5            0            12\n",
            "15   7.5-8.0            0             9\n",
            "16   8.0-8.5            0             9\n",
            "17   8.5-9.0            0             2\n",
            "18   9.0-9.5            0             1\n",
            "19    9.5-10            0             2\n"
          ],
          "name": "stdout"
        }
      ]
    },
    {
      "cell_type": "code",
      "metadata": {
        "id": "u7KgQMqy14cR",
        "colab_type": "code",
        "colab": {
          "base_uri": "https://localhost:8080/",
          "height": 334
        },
        "outputId": "4af4009e-36fb-40e9-fd5d-a7b8a4728f1a"
      },
      "source": [
        "#show csv\n",
        "df.hist(bins=20)"
      ],
      "execution_count": 16,
      "outputs": [
        {
          "output_type": "execute_result",
          "data": {
            "text/plain": [
              "array([[<matplotlib.axes._subplots.AxesSubplot object at 0x7fc704f831d0>,\n",
              "        <matplotlib.axes._subplots.AxesSubplot object at 0x7fc704f29ba8>]],\n",
              "      dtype=object)"
            ]
          },
          "metadata": {
            "tags": []
          },
          "execution_count": 16
        },
        {
          "output_type": "display_data",
          "data": {
            "image/png": "[encoded data removed]",
            "text/plain": [
              "<Figure size 432x288 with 2 Axes>"
            ]
          },
          "metadata": {
            "tags": [],
            "needs_background": "light"
          }
        }
      ]
    },
    {
      "cell_type": "code",
      "metadata": {
        "id": "TtfDdrWJ8eul",
        "colab_type": "code",
        "colab": {
          "base_uri": "https://localhost:8080/",
          "height": 52
        },
        "outputId": "d1b43b6f-22bf-43d6-b242-e5c94052d6c5"
      },
      "source": [
        "#no 2\n",
        "dataSalmon = df['countSalmon'].tolist() \n",
        "dataSeaBass = df['countSeaBass'].tolist()\n",
        "Range = df['lightness'].tolist()\n",
        "\n",
        "#calculate Sum of Salmon and Seabass\n",
        "sumSalmon = sum(dataSalmon)\n",
        "sumSeaBass = sum(dataSeaBass)\n",
        "\n",
        "#Calculate probability of salmon P(w1) and probability of Seabass P(w2)\n",
        "prSalmon = sumSalmon/(sumSalmon+sumSeaBass)\n",
        "prSeaBass = sumSeaBass/(sumSalmon+sumSeaBass)\n",
        "\n",
        "print(prSalmon)\n",
        "print(prSeaBass)"
      ],
      "execution_count": 20,
      "outputs": [
        {
          "output_type": "stream",
          "text": [
            "0.5648854961832062\n",
            "0.4351145038167939\n"
          ],
          "name": "stdout"
        }
      ]
    },
    {
      "cell_type": "code",
      "metadata": {
        "id": "0GI_delbKLzI",
        "colab_type": "code",
        "colab": {
          "base_uri": "https://localhost:8080/",
          "height": 72
        },
        "outputId": "755b6d8b-635a-4e44-ffbb-774b083a2ebf"
      },
      "source": [
        "#Posterior conditional probability\n",
        "def Posterior (data,sumf,prob):\n",
        "    probability = []\n",
        "    for i in data :\n",
        "        pr = i/sumf\n",
        "        pr_s = prob*pr\n",
        "        probability.append(pr_s)\n",
        "    return probability\n",
        "\n",
        "salmon = Posterior(dataSalmon,sumSalmon,prSalmon)\n",
        "seabass = Posterior(dataSeaBass,sumSeaBass,prSeaBass)\n",
        "print(salmon)\n",
        "print(seabass)"
      ],
      "execution_count": 21,
      "outputs": [
        {
          "output_type": "stream",
          "text": [
            "[0.0, 0.015267175572519087, 0.06106870229007635, 0.030534351145038174, 0.0534351145038168, 0.07633587786259544, 0.09160305343511452, 0.06106870229007635, 0.04580152671755726, 0.06106870229007635, 0.030534351145038174, 0.02290076335877863, 0.007633587786259543, 0.007633587786259543, 0.0, 0.0, 0.0, 0.0, 0.0, 0.0]\n",
            "[0.0, 0.0, 0.0, 0.0, 0.0, 0.0, 0.0, 0.007633587786259542, 0.0, 0.022900763358778626, 0.022900763358778626, 0.030534351145038167, 0.04580152671755725, 0.03816793893129771, 0.0916030534351145, 0.06870229007633588, 0.06870229007633588, 0.015267175572519083, 0.007633587786259542, 0.015267175572519083]\n"
          ],
          "name": "stdout"
        }
      ]
    },
    {
      "cell_type": "code",
      "metadata": {
        "id": "TBWBNPQsPBso",
        "colab_type": "code",
        "colab": {}
      },
      "source": [
        "#create the classification based on posterior\n",
        "def Classify (salmon,seabass):\n",
        "    pilih = []\n",
        "    #compare between salmon and seabass\n",
        "    for i in range(len(salmon)):\n",
        "        if salmon[i] > seabass[i]:\n",
        "            pilih.append(\"Salmon\")\n",
        "        elif salmon[i] < seabass[i]:\n",
        "            pilih.append(\"Sea Bass\")\n",
        "        else :\n",
        "            pilih.append(\"Either\")\n",
        "    return pilih\n",
        "cdb = Classify(salmon,seabass)"
      ],
      "execution_count": 22,
      "outputs": []
    },
    {
      "cell_type": "code",
      "metadata": {
        "id": "ZcNkXad5Pgh1",
        "colab_type": "code",
        "colab": {
          "base_uri": "https://localhost:8080/",
          "height": 390
        },
        "outputId": "4e19514e-4283-4bc5-a349-e2e9aa85bc5a"
      },
      "source": [
        "#Create the Table\n",
        "table = pd.DataFrame({\n",
        "    \"Range of Lightness\" : Range,\n",
        "    \"P(w1|x)\" : salmon,\n",
        "    \"P(w2|x)\" : seabass,\n",
        "    \"Class\" : cdb\n",
        "})\n",
        "print (table)"
      ],
      "execution_count": 26,
      "outputs": [
        {
          "output_type": "stream",
          "text": [
            "   Range of Lightness   P(w1|x)   P(w2|x)     Class\n",
            "0               0-0.5  0.000000  0.000000    Either\n",
            "1             0.5-1.0  0.015267  0.000000    Salmon\n",
            "2             1.0-1.5  0.061069  0.000000    Salmon\n",
            "3             1.5-2.0  0.030534  0.000000    Salmon\n",
            "4             2.0-2.5  0.053435  0.000000    Salmon\n",
            "5             2.5-3.0  0.076336  0.000000    Salmon\n",
            "6             3.0-3.5  0.091603  0.000000    Salmon\n",
            "7             3.5-4.0  0.061069  0.007634    Salmon\n",
            "8             4.0-4.5  0.045802  0.000000    Salmon\n",
            "9             4.5-5.0  0.061069  0.022901    Salmon\n",
            "10            5.0-5.5  0.030534  0.022901    Salmon\n",
            "11            5.5-6.0  0.022901  0.030534  Sea Bass\n",
            "12            6.0-6.5  0.007634  0.045802  Sea Bass\n",
            "13            6.5-7.0  0.007634  0.038168  Sea Bass\n",
            "14            7.0-7.5  0.000000  0.091603  Sea Bass\n",
            "15            7.5-8.0  0.000000  0.068702  Sea Bass\n",
            "16            8.0-8.5  0.000000  0.068702  Sea Bass\n",
            "17            8.5-9.0  0.000000  0.015267  Sea Bass\n",
            "18            9.0-9.5  0.000000  0.007634  Sea Bass\n",
            "19             9.5-10  0.000000  0.015267  Sea Bass\n"
          ],
          "name": "stdout"
        }
      ]
    },
    {
      "cell_type": "code",
      "metadata": {
        "id": "ywVITi6ERNg4",
        "colab_type": "code",
        "colab": {
          "base_uri": "https://localhost:8080/",
          "height": 72
        },
        "outputId": "1d4c9532-ed32-4766-a76a-51999ed01b8a"
      },
      "source": [
        "#calculate P(x|w1) and P(x|w2)\n",
        "def MinRisk (data,sumf):\n",
        "    probability = []\n",
        "    for i in data :\n",
        "        #perhitungan perkalian yang di slide\n",
        "        pr = i/sumf\n",
        "        probability.append(pr)\n",
        "    return probability\n",
        "prsl = MinRisk(dataSalmon,sumSalmon)\n",
        "prse = MinRisk(dataSeaBass,sumSeaBass)\n",
        "print(prsl)\n",
        "print(prse)"
      ],
      "execution_count": 27,
      "outputs": [
        {
          "output_type": "stream",
          "text": [
            "[0.0, 0.02702702702702703, 0.10810810810810811, 0.05405405405405406, 0.0945945945945946, 0.13513513513513514, 0.16216216216216217, 0.10810810810810811, 0.08108108108108109, 0.10810810810810811, 0.05405405405405406, 0.04054054054054054, 0.013513513513513514, 0.013513513513513514, 0.0, 0.0, 0.0, 0.0, 0.0, 0.0]\n",
            "[0.0, 0.0, 0.0, 0.0, 0.0, 0.0, 0.0, 0.017543859649122806, 0.0, 0.05263157894736842, 0.05263157894736842, 0.07017543859649122, 0.10526315789473684, 0.08771929824561403, 0.21052631578947367, 0.15789473684210525, 0.15789473684210525, 0.03508771929824561, 0.017543859649122806, 0.03508771929824561]\n"
          ],
          "name": "stdout"
        }
      ]
    },
    {
      "cell_type": "code",
      "metadata": {
        "id": "-wFzt-7pR9UV",
        "colab_type": "code",
        "colab": {
          "base_uri": "https://localhost:8080/",
          "height": 54
        },
        "outputId": "62287b96-36c9-487c-9296-ce236d382eb6"
      },
      "source": [
        "#Calculate Likelihood Ratio\n",
        "nilaiSalmon = []\n",
        "for j in prsl :\n",
        "    if j == 0.0:\n",
        "        j = j + 0.0001\n",
        "    nilaiSalmon.append(j)\n",
        "\n",
        "nilaiSeaBass = []\n",
        "for k in prse :\n",
        "    if k == 0.0:\n",
        "        k = k + 0.0001\n",
        "    nilaiSeaBass.append(k)\n",
        "\n",
        "#Calculate LR\n",
        "LR = []\n",
        "for m in range(len(nilaiSalmon)):\n",
        "    lr = nilaiSalmon[m]/nilaiSeaBass[m]\n",
        "    LR.append(lr)\n",
        "print(LR)"
      ],
      "execution_count": 28,
      "outputs": [
        {
          "output_type": "stream",
          "text": [
            "[1.0, 270.27027027027026, 1081.081081081081, 540.5405405405405, 945.9459459459459, 1351.3513513513515, 1621.6216216216217, 6.162162162162163, 810.8108108108108, 2.0540540540540544, 1.0270270270270272, 0.5777027027027027, 0.1283783783783784, 0.15405405405405406, 0.00047500000000000005, 0.0006333333333333334, 0.0006333333333333334, 0.00285, 0.0057, 0.00285]\n"
          ],
          "name": "stdout"
        }
      ]
    },
    {
      "cell_type": "code",
      "metadata": {
        "id": "qGr52LURSchI",
        "colab_type": "code",
        "colab": {
          "base_uri": "https://localhost:8080/",
          "height": 34
        },
        "outputId": "fe12eaf5-c11d-4d1d-adc2-b4bb8c613aa1"
      },
      "source": [
        "#calculate treshold\n",
        "threshold = (((1-0)/(1-0))*(prSeaBass/prSalmon))\n",
        "print(threshold)"
      ],
      "execution_count": 29,
      "outputs": [
        {
          "output_type": "stream",
          "text": [
            "0.7702702702702702\n"
          ],
          "name": "stdout"
        }
      ]
    },
    {
      "cell_type": "code",
      "metadata": {
        "id": "R3Yp55f3SwxU",
        "colab_type": "code",
        "colab": {
          "base_uri": "https://localhost:8080/",
          "height": 54
        },
        "outputId": "73fb28bc-064b-4d91-c6ef-2fa8e40b1c1e"
      },
      "source": [
        "chooseminrisk = []\n",
        "for n in LR:\n",
        "    if n > threshold:\n",
        "        chooseminrisk.append(\"Salmon\")\n",
        "    else:\n",
        "        chooseminrisk.append(\"Sea Basss\")\n",
        "print (chooseminrisk)"
      ],
      "execution_count": 30,
      "outputs": [
        {
          "output_type": "stream",
          "text": [
            "['Salmon', 'Salmon', 'Salmon', 'Salmon', 'Salmon', 'Salmon', 'Salmon', 'Salmon', 'Salmon', 'Salmon', 'Salmon', 'Sea Basss', 'Sea Basss', 'Sea Basss', 'Sea Basss', 'Sea Basss', 'Sea Basss', 'Sea Basss', 'Sea Basss', 'Sea Basss']\n"
          ],
          "name": "stdout"
        }
      ]
    },
    {
      "cell_type": "code",
      "metadata": {
        "id": "0FAExbetS1Lx",
        "colab_type": "code",
        "colab": {
          "base_uri": "https://localhost:8080/",
          "height": 390
        },
        "outputId": "1da7953d-cb1d-4a52-ed37-6eed4264cd0e"
      },
      "source": [
        "table1 = pd.DataFrame({\n",
        "    \"Range of Lightness\" : Range,\n",
        "    \"Likelihood\" : LR,\n",
        "    \"Class\" : chooseminrisk\n",
        "})\n",
        "print (table1)"
      ],
      "execution_count": 32,
      "outputs": [
        {
          "output_type": "stream",
          "text": [
            "   Range of Lightness   Likelihood      Class\n",
            "0               0-0.5     1.000000     Salmon\n",
            "1             0.5-1.0   270.270270     Salmon\n",
            "2             1.0-1.5  1081.081081     Salmon\n",
            "3             1.5-2.0   540.540541     Salmon\n",
            "4             2.0-2.5   945.945946     Salmon\n",
            "5             2.5-3.0  1351.351351     Salmon\n",
            "6             3.0-3.5  1621.621622     Salmon\n",
            "7             3.5-4.0     6.162162     Salmon\n",
            "8             4.0-4.5   810.810811     Salmon\n",
            "9             4.5-5.0     2.054054     Salmon\n",
            "10            5.0-5.5     1.027027     Salmon\n",
            "11            5.5-6.0     0.577703  Sea Basss\n",
            "12            6.0-6.5     0.128378  Sea Basss\n",
            "13            6.5-7.0     0.154054  Sea Basss\n",
            "14            7.0-7.5     0.000475  Sea Basss\n",
            "15            7.5-8.0     0.000633  Sea Basss\n",
            "16            8.0-8.5     0.000633  Sea Basss\n",
            "17            8.5-9.0     0.002850  Sea Basss\n",
            "18            9.0-9.5     0.005700  Sea Basss\n",
            "19             9.5-10     0.002850  Sea Basss\n"
          ],
          "name": "stdout"
        }
      ]
    }
  ]
}